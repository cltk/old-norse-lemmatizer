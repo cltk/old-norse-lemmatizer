{
 "cells": [
  {
   "cell_type": "code",
   "execution_count": 16,
   "metadata": {
    "collapsed": false
   },
   "outputs": [],
   "source": [
    "from zoegas.reader import Dictionary, dictionary_name\n",
    "import re"
   ]
  },
  {
   "cell_type": "code",
   "execution_count": 3,
   "metadata": {
    "collapsed": true
   },
   "outputs": [],
   "source": [
    "d = Dictionary(dictionary_name)"
   ]
  },
  {
   "cell_type": "code",
   "execution_count": 24,
   "metadata": {
    "collapsed": true
   },
   "outputs": [],
   "source": [
    "word = \"abbadis\"\n",
    "entry = d.find(word)"
   ]
  },
  {
   "cell_type": "code",
   "execution_count": 27,
   "metadata": {
    "collapsed": false
   },
   "outputs": [
    {
     "name": "stdout",
     "output_type": "stream",
     "text": [
      "(pl. -ar), f. abbess.\n",
      "pl\n",
      "ar\n",
      "f\n"
     ]
    }
   ],
   "source": [
    "description = entry.description.strip()\n",
    "print(description)\n",
    "p = re.compile(r'\\((?P<subcategory>\\w+)\\. -(?P<ending>\\w+)\\), (?P<category>\\w+)\\. ')\n",
    "m = p.search(description)\n",
    "print(m.group(\"subcategory\"))\n",
    "print(m.group(\"ending\"))\n",
    "print(m.group(\"category\"))\n"
   ]
  },
  {
   "cell_type": "code",
   "execution_count": null,
   "metadata": {
    "collapsed": true
   },
   "outputs": [],
   "source": [
    "description"
   ]
  },
  {
   "cell_type": "code",
   "execution_count": 29,
   "metadata": {
    "collapsed": true
   },
   "outputs": [],
   "source": [
    "word = \"segja\"\n",
    "entry = d.find(word)"
   ]
  },
  {
   "cell_type": "code",
   "execution_count": null,
   "metadata": {
    "collapsed": true
   },
   "outputs": [],
   "source": []
  },
  {
   "cell_type": "code",
   "execution_count": 34,
   "metadata": {
    "collapsed": false
   },
   "outputs": [
    {
     "name": "stdout",
     "output_type": "stream",
     "text": [
      "(segi, sagða, sagðr), v.\n",
      "\n",
      "1) to say, tell (seg þú mér þat, er ek spyr þik);\n",
      "\n",
      "þeir sögðu, at þeir skyldu aldri upp gefast, they said they would never yield;\n",
      "\n",
      "~ e-m leið, to tell the way, esp. on the sea, to pilot;\n",
      "\n",
      "~ tíðendi, to tell news;\n",
      "\n",
      "impers. it is told (hér segir frá Birni bunu);\n",
      "\n",
      "sem áðr sagði, as was told before;\n",
      "\n",
      "~nda er allt vin sínum, all can be told to a friend;\n",
      "\n",
      "2) to say, declare, in an oath;\n",
      "\n",
      "ek segi þat guði (Æsi), I declare to God (to the ‘Áss’);\n",
      "\n",
      "3) law phrases;\n",
      "\n",
      "~ sik í þing, lög, to declare oneself member of a community;\n",
      "\n",
      "~ sik ór þingi, lögum, to declare oneself out of, withdraw from, a community;\n",
      "\n",
      "~ skilit við konu, to declare oneself separated from, divorce, one’s wife;\n",
      "\n",
      "~ fram sök, to declare one’s case;\n",
      "\n",
      "~ lög, to recite the law, of the lögsögumaðr;\n",
      "\n",
      "4) to signify, mean (þetta segir svá);\n",
      "\n",
      "5) with preps., ~ e-n af e-u, to declare one off a thing, take it from him;\n",
      "\n",
      "~ e-t á e-n, to impose on (bœta at þeim hluta, sem lög segði á hann); to announce (~ á reiði, úsátt sína);\n",
      "\n",
      "~ eptir e-m, to tell tales of one;\n",
      "\n",
      "~ frá e-u, to tell, relate;\n",
      "\n",
      "Unnr, er ek sagða þér frá, U. of whom I told thee;\n",
      "\n",
      "~ fyrir e-u, to prescribe (svá var með öllu farit, sem hann hafði fyrir sagt);\n",
      "\n",
      "~ fyrir skipi, to bid God-speed to a ship;\n",
      "\n",
      "~ e-t fyrir, to predict, foretell (~ fyrir úorðna hluti);\n",
      "\n",
      "~ e-u sundr, í sundr, to break up, dissolve (~ sundr friði, frændsemi, hjúskap);\n",
      "\n",
      "~ til e-s, to tell, inform of (segit honum ekki til, hvat þér hafit gört við hrossit);\n",
      "\n",
      "~ til nafns síns, ~ til sín, to tell (give) one’s name;\n",
      "\n",
      "~ upp e-t, to pronounce (~ upp dóm, gørð);\n",
      "\n",
      "~ upp lög, to proclaim the law (from the law-hill);\n",
      "\n",
      "~ e-n upp, to give one up;\n",
      "\n",
      "~ upp e-u, to declare at an end (~ upp friði, griðum);\n",
      "\n",
      "~ upp þjónustu við e-n, to leave one’s service;\n",
      "\n",
      "6) refl., ~st, to declare of oneself;\n",
      "\n",
      "hann sagðist þá vaka, he said that he was awake;\n",
      "\n",
      "kristnir menn ok heiðnir sögðust hvárir ór lögum annarra, they declared themselves each out of the other’s laws;\n",
      "\n",
      "láta (sér) ~st, to let oneself be spoken to, listen to reason;\n",
      "\n",
      "impers., e-m segist svá, one’s tale runs so.\n",
      "segi\n",
      "sagða\n",
      "sagðr\n",
      "v\n"
     ]
    }
   ],
   "source": [
    "description = entry.description.strip()\n",
    "print(description)\n",
    "p = re.compile(r'\\((?P<sfg3en>\\w+), (?P<sfg3et>\\w+), (?P<stken>\\w+)\\), (?P<category>\\w+)\\.')\n",
    "m = p.search(description)\n",
    "print(m.group(\"sfg3en\"))\n",
    "print(m.group(\"sfg3et\"))\n",
    "print(m.group(\"stken\"))\n",
    "print(m.group(\"category\"))"
   ]
  },
  {
   "cell_type": "code",
   "execution_count": 79,
   "metadata": {
    "collapsed": false
   },
   "outputs": [
    {
     "name": "stdout",
     "output_type": "stream",
     "text": [
      "(gen. -s, dat. jötni; pl. jötnar), m. giant; jötna synir, sons of giants\n",
      "gen. -s, dat. jötni; pl. jötnar\n",
      "-s\n",
      "jötni\n",
      "jötnar\n",
      "['gen', [{'ending': '-s'}], 'dat', [{'complete': 'jötni'}], 'pl', [{'complete': 'jötnar'}]]\n"
     ]
    }
   ],
   "source": [
    "word = \"jötunn\"\n",
    "entry = d.find(word)\n",
    "description = entry.description.strip()\n",
    "print(description)\n",
    "\n",
    "def extract_group_in_parentheses(text):\n",
    "    p = re.compile(r'\\((?P<first>.+?)\\)')\n",
    "    m = p.search(text)\n",
    "    print(m.group(\"first\"))\n",
    "    return m.group(\"first\")\n",
    "\n",
    "def extract_sub_element(text):\n",
    "#     element_extractor_ending = re.compile(r'(?P<subcategory>\\w+)\\. -(?P<ending>\\w+)')\n",
    "    element_extractor = re.compile(r'(?P<subcategory>\\w+)\\. (?P<form>[\\w\\- ]+)')\n",
    "    m = element_extractor.search(text)\n",
    "    if m is not None:\n",
    "        l = (m.group(\"subcategory\"), analyse_given_form(m.group(\"form\")))\n",
    "#         print(m.group(\"subcategory\"))\n",
    "#         print(m.group(\"form\"))\n",
    "    return l\n",
    "        \n",
    "        \n",
    "def extract_list_from_parentheses(text):\n",
    "    l = []\n",
    "    singular_plural = text.split(\";\")\n",
    "    for i in singular_plural:\n",
    "        for element in i.split(\",\"):\n",
    "            l.extend(extract_sub_element(element))\n",
    "    return l\n",
    "             \n",
    "\n",
    "def analyse_given_form(text):\n",
    "    l = []\n",
    "    words = text.split(\" \")\n",
    "    print(text)\n",
    "    if \"and\" in words:\n",
    "        for i in text.split(\"and\"):\n",
    "            print(i)\n",
    "            l.append({\"complete\": i.strip()})\n",
    "        \n",
    "    elif text[0] == \"-\":\n",
    "        l.append({\"ending\": text[0:]})\n",
    "    else:\n",
    "        l.append({\"complete\": text})\n",
    "    return l\n",
    "    \n",
    "    \n",
    "first_group = extract_group_in_parentheses(description)\n",
    "l = extract_list_from_parentheses(first_group)\n",
    "\n",
    "print(l)\n",
    "\n"
   ]
  },
  {
   "cell_type": "code",
   "execution_count": null,
   "metadata": {
    "collapsed": true
   },
   "outputs": [],
   "source": []
  },
  {
   "cell_type": "code",
   "execution_count": 80,
   "metadata": {
    "collapsed": false
   },
   "outputs": [
    {
     "name": "stdout",
     "output_type": "stream",
     "text": [
      "I)\n",
      "\n",
      "(gen. áss and ásar; pl. æsir, acc. æsi and ásu), m. one of the old heathen gods in general, or esp. one of the older branch, in opp. to the younger ones (the Vanir).\n",
      "\n",
      "II)\n",
      "\n",
      "(gen. áss, pl. ásar), m.\n",
      "\n",
      "1) a thick pole, main beam (in a house);\n",
      "\n",
      "2) in a ship, yard of a sail (beitiáss);\n",
      "\n",
      "3) rocky ridge.\n",
      "gen. áss and ásar; pl. æsir, acc. æsi and ásu\n",
      "áss and ásar\n",
      "áss \n",
      " ásar\n",
      "æsir\n",
      "æsi and ásu\n",
      "æsi \n",
      " ásu\n",
      "['gen', [{'complete': 'áss'}, {'complete': 'ásar'}], 'pl', [{'complete': 'æsir'}], 'acc', [{'complete': 'æsi'}, {'complete': 'ásu'}]]\n"
     ]
    }
   ],
   "source": [
    "word = \"áss\"\n",
    "entry = d.find(word)\n",
    "description = entry.description.strip()\n",
    "print(description)\n",
    "first_group = extract_group_in_parentheses(description)\n",
    "l = extract_list_from_parentheses(first_group)\n",
    "print(l)"
   ]
  },
  {
   "cell_type": "code",
   "execution_count": null,
   "metadata": {
    "collapsed": true
   },
   "outputs": [],
   "source": []
  },
  {
   "cell_type": "code",
   "execution_count": null,
   "metadata": {
    "collapsed": true
   },
   "outputs": [],
   "source": []
  },
  {
   "cell_type": "code",
   "execution_count": null,
   "metadata": {
    "collapsed": true
   },
   "outputs": [],
   "source": []
  }
 ],
 "metadata": {
  "kernelspec": {
   "display_name": "Environment (old-norse-lemmatizer)",
   "language": "",
   "name": "old-norse-lemmatizer"
  },
  "language_info": {
   "codemirror_mode": {
    "name": "ipython",
    "version": 3
   },
   "file_extension": ".py",
   "mimetype": "text/x-python",
   "name": "python",
   "nbconvert_exporter": "python",
   "pygments_lexer": "ipython3",
   "version": "3.6.0"
  }
 },
 "nbformat": 4,
 "nbformat_minor": 0
}
